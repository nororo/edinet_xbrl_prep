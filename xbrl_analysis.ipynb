{
 "cells": [
  {
   "cell_type": "markdown",
   "metadata": {},
   "source": [
    "### advent callendar\n",
    "##### Analysis\n",
    "\n",
    "- KAM topicのクラスタリング\n",
    " テキストクラスタリング(e5)\n",
    " llm\n",
    "- KAM topicの時系列分析\n",
    "- KAM topicと業種\n",
    "- 勘定科目からの予測\n",
    "- スモールデータセットの提供(2021,2022,2023,2024の6月)業種を絞る リポジトリはベータとして提供\n",
    "     - KAM項目の抽出\n",
    "     - リスクテキスト項目の抽出\n",
    "     - 会計数値の抽出\n",
    "\n",
    "# TODO\n",
    "\n",
    "jppfsのpreがない\n",
    "bs_dfが0になる"
   ]
  },
  {
   "cell_type": "markdown",
   "metadata": {},
   "source": [
    "# Get metadata"
   ]
  },
  {
   "cell_type": "markdown",
   "metadata": {},
   "source": [
    "# setup"
   ]
  },
  {
   "cell_type": "code",
   "execution_count": null,
   "metadata": {},
   "outputs": [],
   "source": [
    "from time import sleep\n",
    "from tqdm import tqdm\n",
    "import pandas as pd\n",
    "\n",
    "import warnings\n",
    "warnings.filterwarnings('ignore')\n",
    "\n",
    "from pathlib import Path\n",
    "DATA_PATH=Path(\"/Users/yusuke_noro/Documents/Projects/edinet_xbrl_prep/data\")\n",
    "\n"
   ]
  },
  {
   "cell_type": "code",
   "execution_count": 2,
   "metadata": {},
   "outputs": [],
   "source": [
    "from edinet_xbrl_prep.edinet_api import request_term, edinet_response_metadata, request_doc"
   ]
  },
  {
   "cell_type": "markdown",
   "metadata": {},
   "source": [
    "# query edinet"
   ]
  },
  {
   "cell_type": "code",
   "execution_count": 3,
   "metadata": {},
   "outputs": [],
   "source": [
    "res_results = request_term(api_key=your_api_key, start_date_str='2024-06-01', end_date_str='2024-06-05')"
   ]
  },
  {
   "cell_type": "code",
   "execution_count": null,
   "metadata": {},
   "outputs": [],
   "source": [
    "edinet_response_metadata_obj=edinet_response_metadata()\n",
    "edinet_response_metadata_obj.set_data(res_results)\n",
    "filename = str(DATA_PATH/\"data.jsonl\")\n",
    "edinet_response_metadata_obj.save(filename)"
   ]
  },
  {
   "cell_type": "code",
   "execution_count": 3,
   "metadata": {},
   "outputs": [],
   "source": [
    "\n",
    "edinet_response_metadata_obj=edinet_response_metadata(\n",
    "    filename = DATA_PATH/\"data.jsonl\",\n",
    "    tse_sector_url = \"https://www.jpx.co.jp/markets/statistics-equities/misc/tvdivq0000001vg2-att/data_j.xls\",\n",
    "    tmp_path = DATA_PATH\n",
    "    )\n",
    "\n",
    "yuho_df = edinet_response_metadata_obj.get_yuho_df()"
   ]
  },
  {
   "cell_type": "code",
   "execution_count": 4,
   "metadata": {},
   "outputs": [],
   "source": [
    "#yuho_df.sector_label_33.value_counts()"
   ]
  },
  {
   "cell_type": "code",
   "execution_count": 5,
   "metadata": {},
   "outputs": [],
   "source": [
    "yuho_df_filtered = yuho_df.query(\"sector_label_33 == '食料品'\")"
   ]
  },
  {
   "cell_type": "markdown",
   "metadata": {},
   "source": [
    "# Load"
   ]
  },
  {
   "cell_type": "code",
   "execution_count": 6,
   "metadata": {},
   "outputs": [],
   "source": [
    "download_docid_list = yuho_df_filtered.docID.to_list()"
   ]
  },
  {
   "cell_type": "code",
   "execution_count": 6,
   "metadata": {},
   "outputs": [
    {
     "name": "stderr",
     "output_type": "stream",
     "text": [
      "100%|██████████| 79/79 [03:34<00:00,  2.72s/it]\n"
     ]
    }
   ],
   "source": [
    "res_results = []\n",
    "(DATA_PATH / \"xbrl_doc\").mkdir(parents=True, exist_ok=True)\n",
    "for docid in tqdm(download_docid_list):\n",
    "    out_filename = DATA_PATH / \"xbrl_doc\" / (docid + \".zip\")\n",
    "    res_results.append(request_doc(api_key=your_api_key, docid=docid, out_filename_str=out_filename))\n",
    "    sleep(0.5)\n",
    "#out_filename = PROJPATH+\"data/0_metadata/trial/res_results_doc_teisei_yuho_2407_v0830.pkl.cmp\"\n",
    "#joblib.dump(res_results_teisei_yuho, out_filename, compress=True) "
   ]
  },
  {
   "cell_type": "markdown",
   "metadata": {},
   "source": [
    "# Link"
   ]
  },
  {
   "cell_type": "code",
   "execution_count": 7,
   "metadata": {},
   "outputs": [],
   "source": [
    "from edinet_xbrl_prep.link_base_file_analyzer import account_list_common, fs_tbl_loader"
   ]
  },
  {
   "cell_type": "code",
   "execution_count": 9,
   "metadata": {},
   "outputs": [
    {
     "name": "stdout",
     "output_type": "stream",
     "text": [
      "label:  844\n",
      "label:  5073\n"
     ]
    }
   ],
   "source": [
    "\n",
    "account_list_common_obj = account_list_common(\n",
    "    data_path=DATA_PATH,\n",
    "    account_list_year=\"2024\"\n",
    ")\n",
    "(DATA_PATH / \"xbrl_doc_ext\").mkdir(parents=True, exist_ok=True)\n",
    "\n"
   ]
  },
  {
   "cell_type": "code",
   "execution_count": 10,
   "metadata": {},
   "outputs": [],
   "source": [
    "import sys\n",
    "arelle_temp_dir = Path(DATA_PATH/\"tmp\")\n",
    "arelle_dir = arelle_temp_dir.joinpath('arelle_tmp')\n",
    "arelle_dir.mkdir(exist_ok=True)\n",
    "cmd_arelle_dir = '--xdgConfigHome=' + str(arelle_dir)\n",
    "sys.argv.append(cmd_arelle_dir)"
   ]
  },
  {
   "cell_type": "code",
   "execution_count": 11,
   "metadata": {},
   "outputs": [],
   "source": [
    "#from edinet_xbrl_prep.xbrl_parser_rapper import xbrl_parser_rapper"
   ]
  },
  {
   "cell_type": "markdown",
   "metadata": {},
   "source": [
    "#### 財務数値の取り出し\n",
    "有価証券報告書XBRLから財務数値を取得します。"
   ]
  },
  {
   "cell_type": "code",
   "execution_count": 12,
   "metadata": {},
   "outputs": [
    {
     "name": "stderr",
     "output_type": "stream",
     "text": [
      "  0%|          | 0/2 [00:00<?, ?it/s]"
     ]
    },
    {
     "name": "stdout",
     "output_type": "stream",
     "text": [
      "[read_linkbase_file] done in 1.91 s \n",
      "org 20\n",
      "common: 2570\n",
      "[make_account_tbl] done in 0.00 s \n",
      "[make_account_link_tracer] done in 0.00 s \n",
      "[make_account_tbl_role_dict] done in 8.76 s \n"
     ]
    },
    {
     "name": "stderr",
     "output_type": "stream",
     "text": [
      " 50%|█████     | 1/2 [00:20<00:20, 20.39s/it]"
     ]
    },
    {
     "name": "stdout",
     "output_type": "stream",
     "text": [
      "[get_xbrl_rapper] done in 9.66 s \n",
      "[read_linkbase_file] done in 3.21 s \n",
      "org 37\n",
      "common: 2570\n",
      "[make_account_tbl] done in 0.00 s \n",
      "[make_account_link_tracer] done in 0.00 s \n",
      "[make_account_tbl_role_dict] done in 12.82 s \n"
     ]
    },
    {
     "name": "stderr",
     "output_type": "stream",
     "text": [
      "100%|██████████| 2/2 [00:47<00:00, 23.51s/it]"
     ]
    },
    {
     "name": "stdout",
     "output_type": "stream",
     "text": [
      "[get_xbrl_rapper] done in 10.52 s \n"
     ]
    },
    {
     "name": "stderr",
     "output_type": "stream",
     "text": [
      "\n"
     ]
    }
   ],
   "source": [
    "\n",
    "#docid=\"S100TLB3\"\n",
    "fs_tbl_loader_obj_list = []\n",
    "for docid in tqdm(download_docid_list[1:3]):\n",
    "    fs_tbl_loader_obj = fs_tbl_loader(\n",
    "        account_list_common_obj=account_list_common_obj,\n",
    "        docid=docid,\n",
    "        zip_file_str=DATA_PATH / \"raw/xbrl_doc\" / (docid + \".zip\"),\n",
    "        temp_path_str=DATA_PATH / \"raw/xbrl_doc_ext\" / docid,\n",
    "        role_label_list=['BS', 'PL', 'report'],\n",
    "    )\n",
    "    fs_tbl_loader_obj_list.append(fs_tbl_loader_obj)\n",
    "\n"
   ]
  },
  {
   "cell_type": "code",
   "execution_count": 13,
   "metadata": {},
   "outputs": [],
   "source": [
    "import pandas as pd"
   ]
  },
  {
   "cell_type": "code",
   "execution_count": 14,
   "metadata": {},
   "outputs": [
    {
     "ename": "AssertionError",
     "evalue": "doc_name should be one of ['BS','PL','CF','SS','NOTES']",
     "output_type": "error",
     "traceback": [
      "\u001b[0;31m---------------------------------------------------------------------------\u001b[0m",
      "\u001b[0;31mAssertionError\u001b[0m                            Traceback (most recent call last)",
      "Cell \u001b[0;32mIn[14], line 3\u001b[0m\n\u001b[1;32m      1\u001b[0m bs_df_list \u001b[38;5;241m=\u001b[39m []\n\u001b[1;32m      2\u001b[0m \u001b[38;5;28;01mfor\u001b[39;00m itr_fs_tbl_loader \u001b[38;5;129;01min\u001b[39;00m fs_tbl_loader_obj_list:\n\u001b[0;32m----> 3\u001b[0m     bs_df \u001b[38;5;241m=\u001b[39m \u001b[43mitr_fs_tbl_loader\u001b[49m\u001b[38;5;241;43m.\u001b[39;49m\u001b[43mget_data\u001b[49m\u001b[43m(\u001b[49m\n\u001b[1;32m      4\u001b[0m \u001b[43m        \u001b[49m\u001b[43mdoc_name\u001b[49m\u001b[38;5;241;43m=\u001b[39;49m\u001b[38;5;124;43m'\u001b[39;49m\u001b[38;5;124;43mreport\u001b[39;49m\u001b[38;5;124;43m'\u001b[39;49m\u001b[43m,\u001b[49m\n\u001b[1;32m      5\u001b[0m \u001b[43m        \u001b[49m\u001b[43mterm\u001b[49m\u001b[38;5;241;43m=\u001b[39;49m\u001b[38;5;124;43m'\u001b[39;49m\u001b[38;5;124;43mcurrent\u001b[39;49m\u001b[38;5;124;43m'\u001b[39;49m\u001b[43m,\u001b[49m\n\u001b[1;32m      6\u001b[0m \u001b[43m        \u001b[49m\u001b[43mConsolidated\u001b[49m\u001b[38;5;241;43m=\u001b[39;49m\u001b[38;5;28;43;01mTrue\u001b[39;49;00m\n\u001b[1;32m      7\u001b[0m \u001b[43m        \u001b[49m\u001b[43m)\u001b[49m\n\u001b[1;32m      8\u001b[0m     bs_df_list\u001b[38;5;241m.\u001b[39mappend(bs_df)\n\u001b[1;32m      9\u001b[0m bs_df \u001b[38;5;241m=\u001b[39m pd\u001b[38;5;241m.\u001b[39mconcat(bs_df_list)\u001b[38;5;241m.\u001b[39mreset_index(drop\u001b[38;5;241m=\u001b[39m\u001b[38;5;28;01mTrue\u001b[39;00m)\n",
      "File \u001b[0;32m~/Documents/Projects/edinet_xbrl_prep/edinet_xbrl_prep/edinet_xbrl_prep/link_base_file_analyzer.py:616\u001b[0m, in \u001b[0;36mfs_tbl_loader.get_data\u001b[0;34m(self, doc_name, term, Consolidated)\u001b[0m\n\u001b[1;32m    614\u001b[0m \u001b[38;5;28;01mdef\u001b[39;00m \u001b[38;5;21mget_data\u001b[39m(\u001b[38;5;28mself\u001b[39m,doc_name\u001b[38;5;241m=\u001b[39m\u001b[38;5;124m'\u001b[39m\u001b[38;5;124mBS\u001b[39m\u001b[38;5;124m'\u001b[39m,term\u001b[38;5;241m=\u001b[39m\u001b[38;5;124m'\u001b[39m\u001b[38;5;124mcurrent\u001b[39m\u001b[38;5;124m'\u001b[39m,Consolidated\u001b[38;5;241m=\u001b[39m\u001b[38;5;28;01mTrue\u001b[39;00m):\n\u001b[1;32m    615\u001b[0m \u001b[38;5;250m    \u001b[39m\u001b[38;5;124;03m\"\"\"roleまとめて取得\"\"\"\u001b[39;00m\n\u001b[0;32m--> 616\u001b[0m     \u001b[38;5;28;01massert\u001b[39;00m doc_name \u001b[38;5;129;01min\u001b[39;00m [\u001b[38;5;124m'\u001b[39m\u001b[38;5;124mBS\u001b[39m\u001b[38;5;124m'\u001b[39m,\u001b[38;5;124m'\u001b[39m\u001b[38;5;124mPL\u001b[39m\u001b[38;5;124m'\u001b[39m,\u001b[38;5;124m'\u001b[39m\u001b[38;5;124mCF\u001b[39m\u001b[38;5;124m'\u001b[39m,\u001b[38;5;124m'\u001b[39m\u001b[38;5;124mSS\u001b[39m\u001b[38;5;124m'\u001b[39m,\u001b[38;5;124m'\u001b[39m\u001b[38;5;124mNOTES\u001b[39m\u001b[38;5;124m'\u001b[39m],\u001b[38;5;124m\"\u001b[39m\u001b[38;5;124mdoc_name should be one of [\u001b[39m\u001b[38;5;124m'\u001b[39m\u001b[38;5;124mBS\u001b[39m\u001b[38;5;124m'\u001b[39m\u001b[38;5;124m,\u001b[39m\u001b[38;5;124m'\u001b[39m\u001b[38;5;124mPL\u001b[39m\u001b[38;5;124m'\u001b[39m\u001b[38;5;124m,\u001b[39m\u001b[38;5;124m'\u001b[39m\u001b[38;5;124mCF\u001b[39m\u001b[38;5;124m'\u001b[39m\u001b[38;5;124m,\u001b[39m\u001b[38;5;124m'\u001b[39m\u001b[38;5;124mSS\u001b[39m\u001b[38;5;124m'\u001b[39m\u001b[38;5;124m,\u001b[39m\u001b[38;5;124m'\u001b[39m\u001b[38;5;124mNOTES\u001b[39m\u001b[38;5;124m'\u001b[39m\u001b[38;5;124m]\u001b[39m\u001b[38;5;124m\"\u001b[39m\n\u001b[1;32m    617\u001b[0m     \u001b[38;5;28;01massert\u001b[39;00m term \u001b[38;5;129;01min\u001b[39;00m [\u001b[38;5;124m'\u001b[39m\u001b[38;5;124mcurrent\u001b[39m\u001b[38;5;124m'\u001b[39m,\u001b[38;5;124m'\u001b[39m\u001b[38;5;124mprior\u001b[39m\u001b[38;5;124m'\u001b[39m,\u001b[38;5;124m'\u001b[39m\u001b[38;5;124mall\u001b[39m\u001b[38;5;124m'\u001b[39m],\u001b[38;5;124m\"\u001b[39m\u001b[38;5;124mterm should be one of [\u001b[39m\u001b[38;5;124m'\u001b[39m\u001b[38;5;124mcurrent\u001b[39m\u001b[38;5;124m'\u001b[39m\u001b[38;5;124m,\u001b[39m\u001b[38;5;124m'\u001b[39m\u001b[38;5;124mprior\u001b[39m\u001b[38;5;124m'\u001b[39m\u001b[38;5;124m,\u001b[39m\u001b[38;5;124m'\u001b[39m\u001b[38;5;124mall\u001b[39m\u001b[38;5;124m'\u001b[39m\u001b[38;5;124m]\u001b[39m\u001b[38;5;124m\"\u001b[39m\n\u001b[1;32m    618\u001b[0m     \u001b[38;5;28;01massert\u001b[39;00m \u001b[38;5;28misinstance\u001b[39m(Consolidated,\u001b[38;5;28mbool\u001b[39m),\u001b[38;5;124m\"\u001b[39m\u001b[38;5;124mConsolidated should be boolean\u001b[39m\u001b[38;5;124m\"\u001b[39m\n",
      "\u001b[0;31mAssertionError\u001b[0m: doc_name should be one of ['BS','PL','CF','SS','NOTES']"
     ]
    }
   ],
   "source": [
    "bs_df_list = []\n",
    "for itr_fs_tbl_loader in fs_tbl_loader_obj_list:\n",
    "    bs_df = itr_fs_tbl_loader.get_data(\n",
    "        doc_name='report',\n",
    "        term='current',\n",
    "        Consolidated=True\n",
    "        )\n",
    "    bs_df_list.append(bs_df)\n",
    "bs_df = pd.concat(bs_df_list).reset_index(drop=True)"
   ]
  },
  {
   "cell_type": "code",
   "execution_count": null,
   "metadata": {},
   "outputs": [],
   "source": [
    "def preproc(org_data):\n",
    "    #org_data=org_data.copy()\n",
    "    #org_data['data'] = org_data['data'].str.replace(',','')\n",
    "    org_data['data'] = pd.to_numeric(org_data['data_str'], errors='coerce')\n",
    "    org_data['data'] = org_data['data'].fillna(0)\n",
    "    org_data['data'] = org_data.data.astype('int') # for case of data is string object (cannot read csv with dtype=int)\n",
    "    org_data=org_data.assign(\n",
    "        #key_tag=org_data.key_org.str.replace(':','_'),\n",
    "        context_ref_len=(org_data.context_ref\n",
    "                         .str.split('_',expand=True)\n",
    "                         .notna().sum(axis=1) # count component separated by '_'\n",
    "                         ),\n",
    "        #data_credit=org_data.data\n",
    "        )\n",
    "    assert org_data.reset_index()[['key','context_ref']].duplicated().sum()==0\n",
    "    #self.org_data=org_data\n",
    "    return org_data\n",
    "\n",
    "bs_df=preproc(bs_df)#.head(20)"
   ]
  },
  {
   "cell_type": "code",
   "execution_count": 19,
   "metadata": {},
   "outputs": [],
   "source": [
    "\n",
    "bs_df2=bs_df.sort_values('context_ref_len',ascending=True).drop_duplicates(keep='first',subset='key')\n",
    "\n",
    "#bs_df2=bs_df2.assign(data_credit=((bs_df2.balance=='credit')*2-1)*bs_df2.data)"
   ]
  },
  {
   "cell_type": "markdown",
   "metadata": {},
   "source": [
    "#### テキストの取り出し"
   ]
  },
  {
   "cell_type": "code",
   "execution_count": 33,
   "metadata": {},
   "outputs": [
    {
     "data": {
      "text/plain": [
       "role\n",
       "http://disclosure.edinet-fsa.go.jp/role/jpcrp/rol_CabinetOfficeOrdinanceOnDisclosureOfCorporateInformationEtcFormNo3AnnualSecuritiesReport    196\n",
       "http://disclosure.edinet-fsa.go.jp/role/jppfs/rol_BalanceSheet                                                                                 82\n",
       "http://disclosure.edinet-fsa.go.jp/role/jppfs/rol_ConsolidatedBalanceSheet                                                                     81\n",
       "http://disclosure.edinet-fsa.go.jp/role/jpcrp/rol_Shareholdings-02                                                                             69\n",
       "http://disclosure.edinet-fsa.go.jp/role/jppfs/rol_ConsolidatedStatementOfCashFlows-indirect                                                    50\n",
       "http://disclosure.edinet-fsa.go.jp/role/jppfs/rol_ConsolidatedStatementOfIncome                                                                44\n",
       "http://disclosure.edinet-fsa.go.jp/role/jpcrp/rol_InformationAboutEmployees-05                                                                 39\n",
       "http://disclosure.edinet-fsa.go.jp/role/jppfs/rol_StatementOfIncome                                                                            37\n",
       "http://disclosure.edinet-fsa.go.jp/role/jppfs/rol_StatementOfChangesInEquity                                                                   31\n",
       "http://disclosure.edinet-fsa.go.jp/role/jpcrp/rol_InformationAboutOfficers-02                                                                  30\n",
       "http://disclosure.edinet-fsa.go.jp/role/jpcrp/rol_ShareholdingByShareholderCategory                                                            30\n",
       "http://disclosure.edinet-fsa.go.jp/role/jppfs/rol_ConsolidatedStatementOfChangesInEquity                                                       27\n",
       "http://disclosure.edinet-fsa.go.jp/role/jpcrp/rol_NotesSegmentInformationEtcConsolidatedFinancialStatements-02                                 26\n",
       "http://disclosure.edinet-fsa.go.jp/role/jpcrp/rol_NotesConsolidatedStatementOfIncome                                                           25\n",
       "http://disclosure.edinet-fsa.go.jp/role/jpcrp/rol_BusinessResultsOfReportingCompany                                                            23\n",
       "http://disclosure.edinet-fsa.go.jp/role/jpcrp/rol_BusinessResultsOfGroup                                                                       21\n",
       "http://disclosure.edinet-fsa.go.jp/role/jpcrp/rol_NotesStatementOfIncome                                                                       19\n",
       "http://disclosure.edinet-fsa.go.jp/role/jpcrp/rol_Shareholdings-01                                                                             18\n",
       "http://disclosure.edinet-fsa.go.jp/role/jpcrp/rol_MajorShareholders-01                                                                         18\n",
       "http://disclosure.edinet-fsa.go.jp/role/jpcrp/rol_IssuedSharesVotingRights                                                                     18\n",
       "http://disclosure.edinet-fsa.go.jp/role/jpcrp/rol_TreasurySharesEtc                                                                            16\n",
       "http://disclosure.edinet-fsa.go.jp/role/jpcrp/rol_NotesSignificantAccountingPoliciesForPreparationOfConsolidatedFinancialStatements            15\n",
       "http://disclosure.edinet-fsa.go.jp/role/jpcrp/rol_InformationAboutEmployees-01                                                                 15\n",
       "http://disclosure.edinet-fsa.go.jp/role/jpcrp/rol_CoverPage                                                                                    15\n",
       "http://disclosure.edinet-fsa.go.jp/role/jpcrp/rol_NotesSegmentInformationEtcConsolidatedFinancialStatements-04                                 15\n",
       "http://disclosure.edinet-fsa.go.jp/role/jppfs/rol_ConsolidatedStatementOfComprehensiveIncome                                                   15\n",
       "http://disclosure.edinet-fsa.go.jp/role/jpcrp/rol_Audits                                                                                       14\n",
       "http://disclosure.edinet-fsa.go.jp/role/jpcrp/rol_RemunerationForDirectorsAndOtherOfficers-01                                                  13\n",
       "http://disclosure.edinet-fsa.go.jp/role/jpcrp/rol_InformationAboutEmployees-04                                                                 13\n",
       "http://disclosure.edinet-fsa.go.jp/role/jpcrp/rol_InformationAboutEmployees-03                                                                 12\n",
       "http://disclosure.edinet-fsa.go.jp/role/jpcrp/rol_NotesSegmentInformationEtcConsolidatedFinancialStatements-03                                 12\n",
       "http://disclosure.edinet-fsa.go.jp/role/jpcrp/rol_NotesConsolidatedBalanceSheet                                                                11\n",
       "http://disclosure.edinet-fsa.go.jp/role/jpcrp/rol_InformationAboutOfficers-03                                                                  10\n",
       "http://disclosure.edinet-fsa.go.jp/role/jpcrp/rol_IssuedSharesTotalNumberOfSharesEtc                                                           10\n",
       "http://disclosure.edinet-fsa.go.jp/role/jpcrp/rol_InformationAboutEmployees-02                                                                  9\n",
       "http://disclosure.edinet-fsa.go.jp/role/jpcrp/rol_OverviewOfCapitalExpendituresEtc                                                              9\n",
       "http://disclosure.edinet-fsa.go.jp/role/jpcrp/rol_Shareholdings-19                                                                              9\n",
       "http://disclosure.edinet-fsa.go.jp/role/jpcrp/rol_DividendPolicy                                                                                9\n",
       "http://disclosure.edinet-fsa.go.jp/role/jpcrp/rol_NotesSegmentInformationEtcConsolidatedFinancialStatements-01                                  8\n",
       "http://disclosure.edinet-fsa.go.jp/role/jpcrp/rol_NotesBalanceSheet                                                                             8\n",
       "http://disclosure.edinet-fsa.go.jp/role/jpcrp/rol_RemunerationForDirectorsAndOtherOfficers-02                                                   7\n",
       "http://disclosure.edinet-fsa.go.jp/role/jpcrp/rol_NotesSegmentInformationEtcConsolidatedFinancialStatements-09                                  7\n",
       "http://disclosure.edinet-fsa.go.jp/role/jpcrp/rol_NotesConsolidatedStatementOfChangesInEquity                                                   6\n",
       "http://disclosure.edinet-fsa.go.jp/role/jpcrp/rol_ResearchAndDevelopmentActivities                                                              5\n",
       "http://disclosure.edinet-fsa.go.jp/role/jpcrp/rol_NotesConsolidatedStatementOfCashFlows                                                         5\n",
       "http://disclosure.edinet-fsa.go.jp/role/jpcrp/rol_FinancialInformation                                                                          5\n",
       "http://disclosure.edinet-fsa.go.jp/role/jpcrp/rol_NotesConsolidatedStatementOfComprehensiveIncome                                               5\n",
       "http://disclosure.edinet-fsa.go.jp/role/jpcrp/rol_InformationAboutOfficers-01                                                                   3\n",
       "Name: count, dtype: int64"
      ]
     },
     "execution_count": 33,
     "metadata": {},
     "output_type": "execute_result"
    }
   ],
   "source": [
    "fs_tbl_loader_obj_list[1].linkbasefile_obj.parent_child_df.role.value_counts()\n",
    "#.query(\"role.str.contains('rol_Audits')\")\n",
    "#get_presentation_account_list_obj.export_label_to_taxonomi_dict()"
   ]
  },
  {
   "cell_type": "code",
   "execution_count": null,
   "metadata": {},
   "outputs": [],
   "source": []
  },
  {
   "cell_type": "code",
   "execution_count": 16,
   "metadata": {},
   "outputs": [
    {
     "ename": "TypeError",
     "evalue": "pivot_table() missing 1 required positional argument: 'data'",
     "output_type": "error",
     "traceback": [
      "\u001b[0;31m---------------------------------------------------------------------------\u001b[0m",
      "\u001b[0;31mTypeError\u001b[0m                                 Traceback (most recent call last)",
      "Cell \u001b[0;32mIn[16], line 1\u001b[0m\n\u001b[0;32m----> 1\u001b[0m \u001b[43mpd\u001b[49m\u001b[38;5;241;43m.\u001b[39;49m\u001b[43mpivot_table\u001b[49m\u001b[43m(\u001b[49m\u001b[43mindex\u001b[49m\u001b[38;5;241;43m=\u001b[39;49m\u001b[38;5;124;43m'\u001b[39;49m\u001b[38;5;124;43mdocID\u001b[39;49m\u001b[38;5;124;43m'\u001b[39;49m\u001b[43m,\u001b[49m\u001b[43mcolumns\u001b[49m\u001b[38;5;241;43m=\u001b[39;49m\u001b[38;5;124;43m'\u001b[39;49m\u001b[38;5;124;43mlabel\u001b[39;49m\u001b[38;5;124;43m'\u001b[39;49m\u001b[43m,\u001b[49m\u001b[43mvalues\u001b[49m\u001b[38;5;241;43m=\u001b[39;49m\u001b[38;5;124;43m'\u001b[39;49m\u001b[38;5;124;43mvalue\u001b[39;49m\u001b[38;5;124;43m'\u001b[39;49m\u001b[43m,\u001b[49m\u001b[43maggfunc\u001b[49m\u001b[38;5;241;43m=\u001b[39;49m\u001b[38;5;124;43m'\u001b[39;49m\u001b[38;5;124;43mfirst\u001b[39;49m\u001b[38;5;124;43m'\u001b[39;49m\u001b[43m)\u001b[49m\n",
      "\u001b[0;31mTypeError\u001b[0m: pivot_table() missing 1 required positional argument: 'data'"
     ]
    }
   ],
   "source": [
    "pd.pivot_table(index='docID',columns='label',values='value',aggfunc='first')"
   ]
  },
  {
   "cell_type": "code",
   "execution_count": 3,
   "metadata": {},
   "outputs": [
    {
     "name": "stdout",
     "output_type": "stream",
     "text": [
      "152\n",
      "379\n",
      "529\n"
     ]
    }
   ],
   "source": [
    "linkbasefile_obj=linkbasefile(\n",
    "    zip_file_str=DATA_PATH / \"xbrl_doc\" / \"S100TLB3.zip\",\n",
    "    temp_path_str=DATA_PATH / \"xbrl_doc_ext\"/\"S100TLB3\")\n",
    "linkbasefile_obj.read_linkbase_file()\n",
    "linkbasefile_obj.check()\n",
    "linkbasefile_obj.make_account_label(account_list_common_obj)\n",
    "#linkbasefile_obj.make_summary_tbl()\n",
    "#linkbasefile_obj.make_account_label_common(account_list_common_obj) \n"
   ]
  },
  {
   "cell_type": "markdown",
   "metadata": {},
   "source": [
    "## analysis link"
   ]
  },
  {
   "cell_type": "code",
   "execution_count": 20,
   "metadata": {},
   "outputs": [
    {
     "data": {
      "text/plain": [
       "['jpcrp_cor:NetSalesSummaryOfBusinessResults',\n",
       " 'jppfs_cor:NetSalesAbstract',\n",
       " 'jppfs_cor:NetSales',\n",
       " 'jppfs_cor:CostOfSales',\n",
       " 'jppfs_cor:CostOfSalesAbstract']"
      ]
     },
     "execution_count": 20,
     "metadata": {},
     "output_type": "execute_result"
    }
   ],
   "source": [
    "account_link_tracer_obj.search_keys(keyword_in_taxonomy='Sales')"
   ]
  },
  {
   "cell_type": "code",
   "execution_count": 16,
   "metadata": {},
   "outputs": [
    {
     "data": {
      "text/plain": [
       "['jpcrp030000-asr_E03926-000:ArentIncome', 'jppfs_cor:NetSales']"
      ]
     },
     "execution_count": 16,
     "metadata": {},
     "output_type": "execute_result"
    }
   ],
   "source": [
    "account_link_tracer_obj.get_child_keys_recursive(\n",
    "    parent_key='jppfs_cor:NetSalesAbstract',\n",
    "    role=role_text)"
   ]
  },
  {
   "cell_type": "markdown",
   "metadata": {},
   "source": [
    "# xbrl parse"
   ]
  },
  {
   "cell_type": "code",
   "execution_count": 46,
   "metadata": {},
   "outputs": [],
   "source": [
    "docid=\"S100TLB3\"\n",
    "xbrl_data_df,log_dict=get_xbrl_rapper(\n",
    "    docid=docid,\n",
    "    zip_file=DATA_PATH / \"xbrl_doc\" / (docid + \".zip\"),\n",
    "    temp_dir=DATA_PATH / \"tmp\",\n",
    "    out_path=DATA_PATH / \"xbrl_doc_ext\"/\"S100TLB3\",\n",
    "    update_flg=False)\n"
   ]
  },
  {
   "cell_type": "code",
   "execution_count": 49,
   "metadata": {},
   "outputs": [],
   "source": [
    "pl_key=linkbasefile_obj.account_tbl_role_dict['rol_BusinessResultsOfReportingCompany'].key"
   ]
  },
  {
   "cell_type": "code",
   "execution_count": 53,
   "metadata": {},
   "outputs": [],
   "source": [
    "tmp=pd.merge(\n",
    "    linkbasefile_obj.account_tbl_role_dict['rol_BusinessResultsOfReportingCompany'],\n",
    "    xbrl_data_df.query(\"key in @pl_key\"),\n",
    "    on='key',\n",
    "    how='outer')#.query(\"not key.str.contains('Abstract')\")\n"
   ]
  },
  {
   "cell_type": "code",
   "execution_count": null,
   "metadata": {},
   "outputs": [],
   "source": [
    "dict_add,log_dict=get_data(\n",
    "    account_link_tracer_obj=account_link_tracer_obj,\n",
    "    xbrl_obj=textblock_cur,\n",
    "    include_tree_top_keyword=conf['include_tree_top_keyword'],\n",
    "    role_text=role_text,\n",
    "    include_keyword_list=conf['include_keyword_list'],\n",
    "    exclude_keyword=conf['exclude_keyword'],\n",
    "    keep_taxonomi_list=conf['keep_taxonomi_list'],\n",
    "    docid=docid,\n",
    "    edinet_code=edinet_code,\n",
    "    period_end=period_end,\n",
    "    period_start=period_start,\n",
    "    tag=conf['tag'],\n",
    "    log_dict=log_dict\n",
    "    )"
   ]
  }
 ],
 "metadata": {
  "kernelspec": {
   "display_name": ".venv",
   "language": "python",
   "name": "python3"
  },
  "language_info": {
   "codemirror_mode": {
    "name": "ipython",
    "version": 3
   },
   "file_extension": ".py",
   "mimetype": "text/x-python",
   "name": "python",
   "nbconvert_exporter": "python",
   "pygments_lexer": "ipython3",
   "version": "3.12.5"
  }
 },
 "nbformat": 4,
 "nbformat_minor": 2
}
