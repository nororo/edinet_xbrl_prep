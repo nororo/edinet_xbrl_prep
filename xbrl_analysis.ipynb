{
 "cells": [
  {
   "cell_type": "markdown",
   "metadata": {},
   "source": [
    "### advent callendar\n",
    "##### Analysis\n",
    "\n",
    "- KAM topicのクラスタリング\n",
    " テキストクラスタリング(e5)\n",
    " llm\n",
    "- KAM topicの時系列分析\n",
    "- KAM topicと業種\n",
    "- 勘定科目からの予測\n",
    "- スモールデータセットの提供(2021,2022,2023,2024の6月)業種を絞る リポジトリはベータとして提供\n",
    "     - KAM項目の抽出\n",
    "     - リスクテキスト項目の抽出\n",
    "     - 会計数値の抽出\n",
    "\n",
    "# TODO\n",
    "\n",
    "jppfsのpreがない\n",
    "bs_dfが0になる"
   ]
  },
  {
   "cell_type": "markdown",
   "metadata": {},
   "source": [
    "# Get metadata"
   ]
  },
  {
   "cell_type": "markdown",
   "metadata": {},
   "source": [
    "# setup"
   ]
  },
  {
   "cell_type": "code",
   "execution_count": 1,
   "metadata": {},
   "outputs": [],
   "source": [
    "from time import sleep\n",
    "from tqdm import tqdm\n",
    "import pandas as pd\n",
    "\n",
    "import warnings\n",
    "warnings.filterwarnings('ignore')\n",
    "\n",
    "from pathlib import Path\n",
    "DATA_PATH=Path(\"/Users/yusuke_noro/Documents/Projects/edinet_xbrl_prep/data\")\n",
    "\n"
   ]
  },
  {
   "cell_type": "code",
   "execution_count": 2,
   "metadata": {},
   "outputs": [],
   "source": [
    "from edinet_xbrl_prep.edinet_api import request_term, edinet_response_metadata, request_doc"
   ]
  },
  {
   "cell_type": "markdown",
   "metadata": {},
   "source": [
    "# query edinet"
   ]
  },
  {
   "cell_type": "code",
   "execution_count": 3,
   "metadata": {},
   "outputs": [
    {
     "ename": "NameError",
     "evalue": "name 'your_api_key' is not defined",
     "output_type": "error",
     "traceback": [
      "\u001b[0;31m---------------------------------------------------------------------------\u001b[0m",
      "\u001b[0;31mNameError\u001b[0m                                 Traceback (most recent call last)",
      "Cell \u001b[0;32mIn[3], line 1\u001b[0m\n\u001b[0;32m----> 1\u001b[0m res_results \u001b[38;5;241m=\u001b[39m request_term(api_key\u001b[38;5;241m=\u001b[39m\u001b[43myour_api_key\u001b[49m, start_date_str\u001b[38;5;241m=\u001b[39m\u001b[38;5;124m'\u001b[39m\u001b[38;5;124m2024-06-01\u001b[39m\u001b[38;5;124m'\u001b[39m, end_date_str\u001b[38;5;241m=\u001b[39m\u001b[38;5;124m'\u001b[39m\u001b[38;5;124m2024-06-05\u001b[39m\u001b[38;5;124m'\u001b[39m)\n",
      "\u001b[0;31mNameError\u001b[0m: name 'your_api_key' is not defined"
     ]
    }
   ],
   "source": [
    "res_results = request_term(api_key=your_api_key, start_date_str='2024-06-01', end_date_str='2024-06-05')"
   ]
  },
  {
   "cell_type": "code",
   "execution_count": null,
   "metadata": {},
   "outputs": [],
   "source": [
    "edinet_response_metadata_obj=edinet_response_metadata()\n",
    "edinet_response_metadata_obj.set_data(res_results)\n",
    "filename = str(DATA_PATH/\"data.jsonl\")\n",
    "edinet_response_metadata_obj.save(filename)"
   ]
  },
  {
   "cell_type": "code",
   "execution_count": 6,
   "metadata": {},
   "outputs": [],
   "source": [
    "\n",
    "edinet_response_metadata_obj=edinet_response_metadata(\n",
    "    filename = DATA_PATH/\"data.jsonl\",\n",
    "    tse_sector_url = \"https://www.jpx.co.jp/markets/statistics-equities/misc/tvdivq0000001vg2-att/data_j.xls\",\n",
    "    tmp_path = DATA_PATH\n",
    "    )\n",
    "\n",
    "yuho_df = edinet_response_metadata_obj.get_yuho_df()"
   ]
  },
  {
   "cell_type": "code",
   "execution_count": 7,
   "metadata": {},
   "outputs": [],
   "source": [
    "#yuho_df.sector_label_33.value_counts()"
   ]
  },
  {
   "cell_type": "code",
   "execution_count": 8,
   "metadata": {},
   "outputs": [],
   "source": [
    "yuho_df_filtered = yuho_df.query(\"sector_label_33 == '食料品'\")"
   ]
  },
  {
   "cell_type": "markdown",
   "metadata": {},
   "source": [
    "# Load"
   ]
  },
  {
   "cell_type": "code",
   "execution_count": 9,
   "metadata": {},
   "outputs": [],
   "source": [
    "download_docid_list = yuho_df_filtered.docID.to_list()"
   ]
  },
  {
   "cell_type": "code",
   "execution_count": 6,
   "metadata": {},
   "outputs": [
    {
     "name": "stderr",
     "output_type": "stream",
     "text": [
      "100%|██████████| 79/79 [03:34<00:00,  2.72s/it]\n"
     ]
    }
   ],
   "source": [
    "res_results = []\n",
    "(DATA_PATH / \"xbrl_doc\").mkdir(parents=True, exist_ok=True)\n",
    "for docid in tqdm(download_docid_list):\n",
    "    out_filename = DATA_PATH / \"xbrl_doc\" / (docid + \".zip\")\n",
    "    res_results.append(request_doc(api_key=your_api_key, docid=docid, out_filename_str=out_filename))\n",
    "    sleep(0.5)\n",
    "#out_filename = PROJPATH+\"data/0_metadata/trial/res_results_doc_teisei_yuho_2407_v0830.pkl.cmp\"\n",
    "#joblib.dump(res_results_teisei_yuho, out_filename, compress=True) "
   ]
  },
  {
   "cell_type": "markdown",
   "metadata": {},
   "source": [
    "# Link"
   ]
  },
  {
   "cell_type": "code",
   "execution_count": 10,
   "metadata": {},
   "outputs": [],
   "source": [
    "from edinet_xbrl_prep.link_base_file_analyzer import account_list_common\n",
    "from edinet_xbrl_prep.fs_tbl import get_fs_tbl\n"
   ]
  },
  {
   "cell_type": "code",
   "execution_count": 25,
   "metadata": {},
   "outputs": [
    {
     "name": "stdout",
     "output_type": "stream",
     "text": [
      "label:  844\n",
      "label:  5073\n"
     ]
    }
   ],
   "source": [
    "\n",
    "account_list_common_obj = account_list_common(\n",
    "    data_path=DATA_PATH,\n",
    "    account_list_year=\"2024\"\n",
    ")\n",
    "(DATA_PATH / \"xbrl_doc_ext\").mkdir(parents=True, exist_ok=True)\n",
    "\n"
   ]
  },
  {
   "cell_type": "code",
   "execution_count": 12,
   "metadata": {},
   "outputs": [],
   "source": [
    "import sys\n",
    "arelle_temp_dir = Path(DATA_PATH/\"tmp\")\n",
    "arelle_dir = arelle_temp_dir.joinpath('arelle_tmp')\n",
    "arelle_dir.mkdir(exist_ok=True)\n",
    "cmd_arelle_dir = '--xdgConfigHome=' + str(arelle_dir)\n",
    "sys.argv.append(cmd_arelle_dir)"
   ]
  },
  {
   "cell_type": "code",
   "execution_count": 13,
   "metadata": {},
   "outputs": [],
   "source": [
    "#from edinet_xbrl_prep.xbrl_parser_rapper import xbrl_parser_rapper"
   ]
  },
  {
   "cell_type": "markdown",
   "metadata": {},
   "source": [
    "#### 財務数値の取り出し\n",
    "有価証券報告書XBRLから財務数値を取得します。"
   ]
  },
  {
   "cell_type": "code",
   "execution_count": 14,
   "metadata": {},
   "outputs": [],
   "source": [
    "fs_dict={\n",
    "    'BS':[\"_BalanceSheet\",\"_ConsolidatedBalanceSheet\"],\n",
    "    'PL':[\"_StatementOfIncome\",\"_ConsolidatedStatementOfIncome\"],\n",
    "    'CF':[\"_StatementOfCashFlows\",\"_ConsolidatedStatementOfCashFlows\"],\n",
    "    'SS':[\"_StatementOfChangesInEquity\",\"_ConsolidatedStatementOfChangesInEquity\"],\n",
    "    'NOTES':[\"_Notes\",\"_ConsolidatedNotes\"],\n",
    "    'report':[\"_CabinetOfficeOrdinanceOnDisclosure\"]}"
   ]
  },
  {
   "cell_type": "code",
   "execution_count": null,
   "metadata": {},
   "outputs": [],
   "source": [
    "from edinet_xbrl_prep.xbrl_parser_rapper import *\n",
    "from edinet_xbrl_prep.link_base_file_analyzer import *\n",
    "from edinet_xbrl_prep.utils import *\n",
    "from edinet_xbrl_prep.fs_tbl import *\n",
    "\n",
    "def get_fs_tbl2(account_list_common_obj,docid,zip_file_str,temp_path_str,role_keyward_list):\n",
    "    linkbasefile_obj = linkbasefile(\n",
    "        zip_file_str=zip_file_str,\n",
    "        temp_path_str=temp_path_str\n",
    "        )\n",
    "    linkbasefile_obj.read_linkbase_file()\n",
    "    linkbasefile_obj.check()\n",
    "    linkbasefile_obj.make_account_label(account_list_common_obj,role_keyward_list)\n",
    "    xbrl_data_df,log_dict = get_xbrl_rapper(\n",
    "        docid=docid,\n",
    "        zip_file=zip_file_str,\n",
    "        temp_dir=temp_path_str,\n",
    "        out_path=temp_path_str,\n",
    "        update_flg=False\n",
    "        )\n",
    "    #role_keyward_list = []\n",
    "    #print(list(linkbasefile_obj.account_tbl_role_dict.keys()))\n",
    "    for role_t in role_keyward_list:\n",
    "        role_list = [role_key for role_key in list(linkbasefile_obj.account_tbl_role_dict.keys()) if role_t in role_key]\n",
    "    data_list = []\n",
    "    for role in list(linkbasefile_obj.account_tbl_role_dict.keys()):\n",
    "        #print(role)\n",
    "        key_in_the_role:pd.Series = linkbasefile_obj.account_tbl_role_dict[role].key\n",
    "        data=pd.merge(\n",
    "            xbrl_data_df.query(\"key in @key_in_the_role\"),\n",
    "            linkbasefile_obj.account_tbl_role_dict[role],\n",
    "            on='key',\n",
    "            how='left')#.query(\"not key.str.contains('Abstract')\")\n",
    "        data = data.assign(docid=docid,role=role)\n",
    "        \n",
    "        data.assign(\n",
    "            non_consolidated_flg=data.context_ref.str.contains('NonConsolidated'),\n",
    "            current_flg=data.context_ref.str.contains('CurrentYear'),\n",
    "            prior_flg=data.context_ref.str.contains('Prior1Year')\n",
    "            \n",
    "        )\n",
    "        data_list.append(data)\n",
    "    return pd.concat(data_list)"
   ]
  },
  {
   "cell_type": "code",
   "execution_count": null,
   "metadata": {},
   "outputs": [],
   "source": [
    "import pandera as pa\n",
    "from pandera.typing import DataFrame, Series\n",
    "\n",
    "class fs_data(pa.DataFrameModel):\n",
    "    #ParentChildLink\n",
    "    \"\"\"\n",
    "    'key': taxonomy like 'jpcrp_cor:NetSales'\n",
    "    'data_str': data (string) like '1000000'\n",
    "    'decimals': 3桁の表示\n",
    "    'precision': ???\n",
    "    'context_ref' # T:-3, M:-6, B:-9\n",
    "    'element_name'\n",
    "    'unit' # JPY\n",
    "    'period_type'\n",
    "    'isTextBlock_flg'\n",
    "    'abstract_flg'\n",
    "    'period_start' # durationの場合 当期末日, instantの場合 None\n",
    "    'period_end' # durationの場合 当期末日, instantの場合 当期末日\n",
    "    'instant_date' # durationの場合 None, instantの場合 当期末日\n",
    "    'end_date_pv' # durationの場合 前期末日, instantの場合 None\n",
    "    'instant_date_pv' # durationの場合 None, instantの場合 前期対象日\n",
    "    'scenario'\n",
    "    'role'\n",
    "    'label_jp'\n",
    "    'order'\n",
    "    'child_key'\n",
    "    'docid']\n",
    "    \"\"\"\n",
    "    key: Series[str]\n",
    "    data_str: Series[str]\n",
    "    decimals: Series[str]\n",
    "    precision: Series[str]\n",
    "    context_ref: Series[str]\n",
    "    element_name: Series[str]\n",
    "    unit: Series[str]\n",
    "    period_type: Series[str] = pa.Field(isin=['instant','duration'],nullable=True) # 'instant','duration'\n",
    "    isTextBlock_flg: Series[int] = pa.Field(isin=[0,1],nullable=True) # 0,1\n",
    "    abstract_flg: Series[int] = pa.Field(isin=[0,1],nullable=True) # 0,1\n",
    "    period_start: Series[str]\n",
    "    period_end: Series[str]\n",
    "    instant_date: Series[str]\n",
    "    #end_date_pv: Series[str]\n",
    "    #instant_date_pv: Series[str]\n",
    "    scenario: Series[str]\n",
    "    role: Series[str]\n",
    "    label_jp: Series[str]\n",
    "    order: Series[str]\n",
    "    #child_key: Series[str]\n",
    "    docid: Series[str]\n"
   ]
  },
  {
   "cell_type": "code",
   "execution_count": 38,
   "metadata": {},
   "outputs": [
    {
     "name": "stderr",
     "output_type": "stream",
     "text": [
      "  0%|          | 0/2 [00:00<?, ?it/s]"
     ]
    },
    {
     "name": "stdout",
     "output_type": "stream",
     "text": [
      "org 20\n",
      "common: 2570\n",
      "[make_account_tbl] done in 0.00 s \n",
      "[make_account_link_tracer] done in 0.00 s \n",
      "[make_account_tbl_role_dict] done in 6.11 s \n"
     ]
    },
    {
     "name": "stderr",
     "output_type": "stream",
     "text": [
      " 50%|█████     | 1/2 [00:17<00:17, 17.74s/it]"
     ]
    },
    {
     "name": "stdout",
     "output_type": "stream",
     "text": [
      "['rol_BalanceSheet', 'rol_StatementOfIncome', 'rol_StatementOfCashFlows-indirect', 'rol_StatementOfChangesInEquity', 'rol_NotesStatementOfIncome', 'rol_NotesSegmentInformationEtcFinancialStatements-01', 'rol_NotesStatementOfCashFlows', 'rol_NotesBalanceSheet', 'rol_NotesStatementOfChangesInEquity', 'rol_NotesSegmentInformationEtcFinancialStatements-09', 'rol_NotesSegmentInformationEtcFinancialStatements-03']\n",
      "rol_BalanceSheet\n",
      "rol_StatementOfIncome\n",
      "rol_StatementOfCashFlows-indirect\n",
      "rol_StatementOfChangesInEquity\n",
      "rol_NotesStatementOfIncome\n",
      "rol_NotesSegmentInformationEtcFinancialStatements-01\n",
      "rol_NotesStatementOfCashFlows\n",
      "rol_NotesBalanceSheet\n",
      "rol_NotesStatementOfChangesInEquity\n",
      "rol_NotesSegmentInformationEtcFinancialStatements-09\n",
      "rol_NotesSegmentInformationEtcFinancialStatements-03\n",
      "org 37\n",
      "common: 2570\n",
      "[make_account_tbl] done in 0.00 s \n",
      "[make_account_link_tracer] done in 0.00 s \n",
      "[make_account_tbl_role_dict] done in 14.69 s \n"
     ]
    },
    {
     "name": "stderr",
     "output_type": "stream",
     "text": [
      "100%|██████████| 2/2 [00:47<00:00, 23.82s/it]"
     ]
    },
    {
     "name": "stdout",
     "output_type": "stream",
     "text": [
      "['rol_BalanceSheet', 'rol_ConsolidatedBalanceSheet', 'rol_StatementOfIncome', 'rol_ConsolidatedStatementOfIncome', 'rol_ConsolidatedStatementOfCashFlows-indirect', 'rol_StatementOfChangesInEquity', 'rol_ConsolidatedStatementOfChangesInEquity', 'rol_NotesConsolidatedStatementOfIncome', 'rol_NotesConsolidatedStatementOfComprehensiveIncome', 'rol_NotesStatementOfIncome', 'rol_NotesConsolidatedBalanceSheet', 'rol_NotesBalanceSheet', 'rol_NotesSignificantAccountingPoliciesForPreparationOfConsolidatedFinancialStatements', 'rol_NotesSegmentInformationEtcConsolidatedFinancialStatements-02', 'rol_NotesSegmentInformationEtcConsolidatedFinancialStatements-03', 'rol_NotesSegmentInformationEtcConsolidatedFinancialStatements-09', 'rol_NotesConsolidatedStatementOfChangesInEquity', 'rol_NotesSegmentInformationEtcConsolidatedFinancialStatements-04', 'rol_NotesSegmentInformationEtcConsolidatedFinancialStatements-01', 'rol_NotesConsolidatedStatementOfCashFlows']\n",
      "rol_BalanceSheet\n",
      "rol_ConsolidatedBalanceSheet\n",
      "rol_StatementOfIncome\n",
      "rol_ConsolidatedStatementOfIncome\n",
      "rol_ConsolidatedStatementOfCashFlows-indirect\n",
      "rol_StatementOfChangesInEquity\n",
      "rol_ConsolidatedStatementOfChangesInEquity\n",
      "rol_NotesConsolidatedStatementOfIncome\n",
      "rol_NotesConsolidatedStatementOfComprehensiveIncome\n",
      "rol_NotesStatementOfIncome\n",
      "rol_NotesConsolidatedBalanceSheet\n",
      "rol_NotesBalanceSheet\n",
      "rol_NotesSignificantAccountingPoliciesForPreparationOfConsolidatedFinancialStatements\n",
      "rol_NotesSegmentInformationEtcConsolidatedFinancialStatements-02\n",
      "rol_NotesSegmentInformationEtcConsolidatedFinancialStatements-03\n",
      "rol_NotesSegmentInformationEtcConsolidatedFinancialStatements-09\n",
      "rol_NotesConsolidatedStatementOfChangesInEquity\n",
      "rol_NotesSegmentInformationEtcConsolidatedFinancialStatements-04\n",
      "rol_NotesSegmentInformationEtcConsolidatedFinancialStatements-01\n",
      "rol_NotesConsolidatedStatementOfCashFlows\n"
     ]
    },
    {
     "name": "stderr",
     "output_type": "stream",
     "text": [
      "\n"
     ]
    }
   ],
   "source": [
    "fs_tbl_loader_obj_list = []\n",
    "for docid in tqdm(download_docid_list[1:3]):\n",
    "    fs_tbl_loader_obj = get_fs_tbl2(\n",
    "        account_list_common_obj=account_list_common_obj,\n",
    "        docid=docid,\n",
    "        zip_file_str=DATA_PATH / \"raw/xbrl_doc\" / (docid + \".zip\"),\n",
    "        temp_path_str=DATA_PATH / \"raw/xbrl_doc_ext\" / docid,\n",
    "        role_keyward_list=fs_dict['BS']+fs_dict['PL']+fs_dict['CF']+fs_dict['SS']+fs_dict['NOTES'],\n",
    "    )\n",
    "    fs_tbl_loader_obj_list.append(fs_tbl_loader_obj)\n"
   ]
  },
  {
   "cell_type": "code",
   "execution_count": 45,
   "metadata": {},
   "outputs": [
    {
     "data": {
      "text/html": [
       "<div>\n",
       "<style scoped>\n",
       "    .dataframe tbody tr th:only-of-type {\n",
       "        vertical-align: middle;\n",
       "    }\n",
       "\n",
       "    .dataframe tbody tr th {\n",
       "        vertical-align: top;\n",
       "    }\n",
       "\n",
       "    .dataframe thead th {\n",
       "        text-align: right;\n",
       "    }\n",
       "</style>\n",
       "<table border=\"1\" class=\"dataframe\">\n",
       "  <thead>\n",
       "    <tr style=\"text-align: right;\">\n",
       "      <th></th>\n",
       "      <th>key</th>\n",
       "      <th>data_str</th>\n",
       "      <th>decimals</th>\n",
       "      <th>precision</th>\n",
       "      <th>context_ref</th>\n",
       "      <th>element_name</th>\n",
       "      <th>unit</th>\n",
       "      <th>period_type</th>\n",
       "      <th>isTextBlock_flg</th>\n",
       "      <th>abstract_flg</th>\n",
       "      <th>...</th>\n",
       "      <th>period_end</th>\n",
       "      <th>instant_date</th>\n",
       "      <th>end_date_pv</th>\n",
       "      <th>instant_date_pv</th>\n",
       "      <th>scenario</th>\n",
       "      <th>role</th>\n",
       "      <th>label_jp</th>\n",
       "      <th>order</th>\n",
       "      <th>child_key</th>\n",
       "      <th>docid</th>\n",
       "    </tr>\n",
       "  </thead>\n",
       "  <tbody>\n",
       "    <tr>\n",
       "      <th>0</th>\n",
       "      <td>jppfs_cor:CashAndDeposits</td>\n",
       "      <td>2657108000</td>\n",
       "      <td>-3</td>\n",
       "      <td>None</td>\n",
       "      <td>Prior1YearInstant_NonConsolidatedMember</td>\n",
       "      <td>CashAndDeposits</td>\n",
       "      <td>JPY</td>\n",
       "      <td>instant</td>\n",
       "      <td>0</td>\n",
       "      <td>0</td>\n",
       "      <td>...</td>\n",
       "      <td>2023-04-01</td>\n",
       "      <td>2023-04-01</td>\n",
       "      <td>None</td>\n",
       "      <td>2023-03-31</td>\n",
       "      <td>[{\"ja\":[\"連結個別\",\"非連結又は個別\"],\"en\":[\"Consolidated ...</td>\n",
       "      <td>rol_BalanceSheet</td>\n",
       "      <td>現金及び預金</td>\n",
       "      <td>1.020101</td>\n",
       "      <td>jppfs_cor:CashAndDeposits</td>\n",
       "      <td>S100TNWB</td>\n",
       "    </tr>\n",
       "    <tr>\n",
       "      <th>1</th>\n",
       "      <td>jppfs_cor:CashAndDeposits</td>\n",
       "      <td>3873928000</td>\n",
       "      <td>-3</td>\n",
       "      <td>None</td>\n",
       "      <td>CurrentYearInstant_NonConsolidatedMember</td>\n",
       "      <td>CashAndDeposits</td>\n",
       "      <td>JPY</td>\n",
       "      <td>instant</td>\n",
       "      <td>0</td>\n",
       "      <td>0</td>\n",
       "      <td>...</td>\n",
       "      <td>2024-04-01</td>\n",
       "      <td>2024-04-01</td>\n",
       "      <td>None</td>\n",
       "      <td>2024-03-31</td>\n",
       "      <td>[{\"ja\":[\"連結個別\",\"非連結又は個別\"],\"en\":[\"Consolidated ...</td>\n",
       "      <td>rol_BalanceSheet</td>\n",
       "      <td>現金及び預金</td>\n",
       "      <td>1.020101</td>\n",
       "      <td>jppfs_cor:CashAndDeposits</td>\n",
       "      <td>S100TNWB</td>\n",
       "    </tr>\n",
       "    <tr>\n",
       "      <th>2</th>\n",
       "      <td>jppfs_cor:NotesReceivableTrade</td>\n",
       "      <td>31632000</td>\n",
       "      <td>-3</td>\n",
       "      <td>None</td>\n",
       "      <td>Prior1YearInstant_NonConsolidatedMember</td>\n",
       "      <td>NotesReceivableTrade</td>\n",
       "      <td>JPY</td>\n",
       "      <td>instant</td>\n",
       "      <td>0</td>\n",
       "      <td>0</td>\n",
       "      <td>...</td>\n",
       "      <td>2023-04-01</td>\n",
       "      <td>2023-04-01</td>\n",
       "      <td>None</td>\n",
       "      <td>2023-03-31</td>\n",
       "      <td>[{\"ja\":[\"連結個別\",\"非連結又は個別\"],\"en\":[\"Consolidated ...</td>\n",
       "      <td>rol_BalanceSheet</td>\n",
       "      <td>受取手形</td>\n",
       "      <td>1.020101</td>\n",
       "      <td>jppfs_cor:NotesReceivableTrade</td>\n",
       "      <td>S100TNWB</td>\n",
       "    </tr>\n",
       "    <tr>\n",
       "      <th>3</th>\n",
       "      <td>jppfs_cor:NotesReceivableTrade</td>\n",
       "      <td>46153000</td>\n",
       "      <td>-3</td>\n",
       "      <td>None</td>\n",
       "      <td>CurrentYearInstant_NonConsolidatedMember</td>\n",
       "      <td>NotesReceivableTrade</td>\n",
       "      <td>JPY</td>\n",
       "      <td>instant</td>\n",
       "      <td>0</td>\n",
       "      <td>0</td>\n",
       "      <td>...</td>\n",
       "      <td>2024-04-01</td>\n",
       "      <td>2024-04-01</td>\n",
       "      <td>None</td>\n",
       "      <td>2024-03-31</td>\n",
       "      <td>[{\"ja\":[\"連結個別\",\"非連結又は個別\"],\"en\":[\"Consolidated ...</td>\n",
       "      <td>rol_BalanceSheet</td>\n",
       "      <td>受取手形</td>\n",
       "      <td>1.020101</td>\n",
       "      <td>jppfs_cor:NotesReceivableTrade</td>\n",
       "      <td>S100TNWB</td>\n",
       "    </tr>\n",
       "    <tr>\n",
       "      <th>4</th>\n",
       "      <td>jppfs_cor:AccountsReceivableTrade</td>\n",
       "      <td>4658698000</td>\n",
       "      <td>-3</td>\n",
       "      <td>None</td>\n",
       "      <td>Prior1YearInstant_NonConsolidatedMember</td>\n",
       "      <td>AccountsReceivableTrade</td>\n",
       "      <td>JPY</td>\n",
       "      <td>instant</td>\n",
       "      <td>0</td>\n",
       "      <td>0</td>\n",
       "      <td>...</td>\n",
       "      <td>2023-04-01</td>\n",
       "      <td>2023-04-01</td>\n",
       "      <td>None</td>\n",
       "      <td>2023-03-31</td>\n",
       "      <td>[{\"ja\":[\"連結個別\",\"非連結又は個別\"],\"en\":[\"Consolidated ...</td>\n",
       "      <td>rol_BalanceSheet</td>\n",
       "      <td>売掛金</td>\n",
       "      <td>1.020101</td>\n",
       "      <td>jppfs_cor:AccountsReceivableTrade</td>\n",
       "      <td>S100TNWB</td>\n",
       "    </tr>\n",
       "    <tr>\n",
       "      <th>...</th>\n",
       "      <td>...</td>\n",
       "      <td>...</td>\n",
       "      <td>...</td>\n",
       "      <td>...</td>\n",
       "      <td>...</td>\n",
       "      <td>...</td>\n",
       "      <td>...</td>\n",
       "      <td>...</td>\n",
       "      <td>...</td>\n",
       "      <td>...</td>\n",
       "      <td>...</td>\n",
       "      <td>...</td>\n",
       "      <td>...</td>\n",
       "      <td>...</td>\n",
       "      <td>...</td>\n",
       "      <td>...</td>\n",
       "      <td>...</td>\n",
       "      <td>...</td>\n",
       "      <td>...</td>\n",
       "      <td>...</td>\n",
       "      <td>...</td>\n",
       "    </tr>\n",
       "    <tr>\n",
       "      <th>9</th>\n",
       "      <td>jppfs_cor:ImpairmentLossEL</td>\n",
       "      <td>57000000</td>\n",
       "      <td>-6</td>\n",
       "      <td>None</td>\n",
       "      <td>CurrentYearDuration_NonConsolidatedMember</td>\n",
       "      <td>ImpairmentLossEL</td>\n",
       "      <td>JPY</td>\n",
       "      <td>duration</td>\n",
       "      <td>0</td>\n",
       "      <td>0</td>\n",
       "      <td>...</td>\n",
       "      <td>2024-04-01</td>\n",
       "      <td>None</td>\n",
       "      <td>2024-03-31</td>\n",
       "      <td>None</td>\n",
       "      <td>[{\"ja\":[\"連結個別\",\"非連結又は個別\"],\"en\":[\"Consolidated ...</td>\n",
       "      <td>rol_NotesSegmentInformationEtcConsolidatedFina...</td>\n",
       "      <td>減損損失</td>\n",
       "      <td>1.010201</td>\n",
       "      <td>jppfs_cor:ImpairmentLossEL</td>\n",
       "      <td>S100TLP1</td>\n",
       "    </tr>\n",
       "    <tr>\n",
       "      <th>0</th>\n",
       "      <td>jpcrp_cor:DescriptionOfReportableSegmentsTextB...</td>\n",
       "      <td>&lt;p class=\"smt_text6\" style=\"orphans:0;widows:0...</td>\n",
       "      <td>None</td>\n",
       "      <td>None</td>\n",
       "      <td>CurrentYearDuration</td>\n",
       "      <td>DescriptionOfReportableSegmentsTextBlock</td>\n",
       "      <td>None</td>\n",
       "      <td>duration</td>\n",
       "      <td>1</td>\n",
       "      <td>0</td>\n",
       "      <td>...</td>\n",
       "      <td>2024-04-01</td>\n",
       "      <td>None</td>\n",
       "      <td>2024-03-31</td>\n",
       "      <td>None</td>\n",
       "      <td>None</td>\n",
       "      <td>rol_NotesSegmentInformationEtcConsolidatedFina...</td>\n",
       "      <td>NaN</td>\n",
       "      <td>1.020101</td>\n",
       "      <td>jpcrp_cor:DescriptionOfReportableSegmentsTextB...</td>\n",
       "      <td>S100TLP1</td>\n",
       "    </tr>\n",
       "    <tr>\n",
       "      <th>1</th>\n",
       "      <td>jpcrp_cor:DisclosureOfChangesInReportableSegme...</td>\n",
       "      <td>&lt;p class=\"smt_text3\" style=\"orphans:0;widows:0...</td>\n",
       "      <td>None</td>\n",
       "      <td>None</td>\n",
       "      <td>CurrentYearDuration</td>\n",
       "      <td>DisclosureOfChangesInReportableSegmentsTextBlock</td>\n",
       "      <td>None</td>\n",
       "      <td>duration</td>\n",
       "      <td>1</td>\n",
       "      <td>0</td>\n",
       "      <td>...</td>\n",
       "      <td>2024-04-01</td>\n",
       "      <td>None</td>\n",
       "      <td>2024-03-31</td>\n",
       "      <td>None</td>\n",
       "      <td>None</td>\n",
       "      <td>rol_NotesSegmentInformationEtcConsolidatedFina...</td>\n",
       "      <td>NaN</td>\n",
       "      <td>1.020101</td>\n",
       "      <td>jpcrp_cor:DisclosureOfChangesInReportableSegme...</td>\n",
       "      <td>S100TLP1</td>\n",
       "    </tr>\n",
       "    <tr>\n",
       "      <th>2</th>\n",
       "      <td>jpcrp_cor:ExplanationOfMeasurementsOfSalesProf...</td>\n",
       "      <td>&lt;p class=\"smt_text6\" style=\"orphans:0;widows:0...</td>\n",
       "      <td>None</td>\n",
       "      <td>None</td>\n",
       "      <td>CurrentYearDuration</td>\n",
       "      <td>ExplanationOfMeasurementsOfSalesProfitLossAsse...</td>\n",
       "      <td>None</td>\n",
       "      <td>duration</td>\n",
       "      <td>1</td>\n",
       "      <td>0</td>\n",
       "      <td>...</td>\n",
       "      <td>2024-04-01</td>\n",
       "      <td>None</td>\n",
       "      <td>2024-03-31</td>\n",
       "      <td>None</td>\n",
       "      <td>None</td>\n",
       "      <td>rol_NotesSegmentInformationEtcConsolidatedFina...</td>\n",
       "      <td>NaN</td>\n",
       "      <td>1.020102</td>\n",
       "      <td>jpcrp_cor:ExplanationOfMeasurementsOfSalesProf...</td>\n",
       "      <td>S100TLP1</td>\n",
       "    </tr>\n",
       "    <tr>\n",
       "      <th>0</th>\n",
       "      <td>jpcrp_cor:ReconciliationOfEndingBalanceOfCashA...</td>\n",
       "      <td>&lt;p class=\"smt_head6\" style=\"orphans:0;widows:0...</td>\n",
       "      <td>None</td>\n",
       "      <td>None</td>\n",
       "      <td>CurrentYearDuration</td>\n",
       "      <td>ReconciliationOfEndingBalanceOfCashAndCashEqui...</td>\n",
       "      <td>None</td>\n",
       "      <td>duration</td>\n",
       "      <td>1</td>\n",
       "      <td>0</td>\n",
       "      <td>...</td>\n",
       "      <td>2024-04-01</td>\n",
       "      <td>None</td>\n",
       "      <td>2024-03-31</td>\n",
       "      <td>None</td>\n",
       "      <td>None</td>\n",
       "      <td>rol_NotesConsolidatedStatementOfCashFlows</td>\n",
       "      <td>NaN</td>\n",
       "      <td>1.020100</td>\n",
       "      <td>jpcrp_cor:ReconciliationOfEndingBalanceOfCashA...</td>\n",
       "      <td>S100TLP1</td>\n",
       "    </tr>\n",
       "  </tbody>\n",
       "</table>\n",
       "<p>2283 rows × 21 columns</p>\n",
       "</div>"
      ],
      "text/plain": [
       "                                                  key  \\\n",
       "0                           jppfs_cor:CashAndDeposits   \n",
       "1                           jppfs_cor:CashAndDeposits   \n",
       "2                      jppfs_cor:NotesReceivableTrade   \n",
       "3                      jppfs_cor:NotesReceivableTrade   \n",
       "4                   jppfs_cor:AccountsReceivableTrade   \n",
       "..                                                ...   \n",
       "9                          jppfs_cor:ImpairmentLossEL   \n",
       "0   jpcrp_cor:DescriptionOfReportableSegmentsTextB...   \n",
       "1   jpcrp_cor:DisclosureOfChangesInReportableSegme...   \n",
       "2   jpcrp_cor:ExplanationOfMeasurementsOfSalesProf...   \n",
       "0   jpcrp_cor:ReconciliationOfEndingBalanceOfCashA...   \n",
       "\n",
       "                                             data_str decimals precision  \\\n",
       "0                                          2657108000       -3      None   \n",
       "1                                          3873928000       -3      None   \n",
       "2                                            31632000       -3      None   \n",
       "3                                            46153000       -3      None   \n",
       "4                                          4658698000       -3      None   \n",
       "..                                                ...      ...       ...   \n",
       "9                                            57000000       -6      None   \n",
       "0   <p class=\"smt_text6\" style=\"orphans:0;widows:0...     None      None   \n",
       "1   <p class=\"smt_text3\" style=\"orphans:0;widows:0...     None      None   \n",
       "2   <p class=\"smt_text6\" style=\"orphans:0;widows:0...     None      None   \n",
       "0   <p class=\"smt_head6\" style=\"orphans:0;widows:0...     None      None   \n",
       "\n",
       "                                  context_ref  \\\n",
       "0     Prior1YearInstant_NonConsolidatedMember   \n",
       "1    CurrentYearInstant_NonConsolidatedMember   \n",
       "2     Prior1YearInstant_NonConsolidatedMember   \n",
       "3    CurrentYearInstant_NonConsolidatedMember   \n",
       "4     Prior1YearInstant_NonConsolidatedMember   \n",
       "..                                        ...   \n",
       "9   CurrentYearDuration_NonConsolidatedMember   \n",
       "0                         CurrentYearDuration   \n",
       "1                         CurrentYearDuration   \n",
       "2                         CurrentYearDuration   \n",
       "0                         CurrentYearDuration   \n",
       "\n",
       "                                         element_name  unit period_type  \\\n",
       "0                                     CashAndDeposits   JPY     instant   \n",
       "1                                     CashAndDeposits   JPY     instant   \n",
       "2                                NotesReceivableTrade   JPY     instant   \n",
       "3                                NotesReceivableTrade   JPY     instant   \n",
       "4                             AccountsReceivableTrade   JPY     instant   \n",
       "..                                                ...   ...         ...   \n",
       "9                                    ImpairmentLossEL   JPY    duration   \n",
       "0            DescriptionOfReportableSegmentsTextBlock  None    duration   \n",
       "1    DisclosureOfChangesInReportableSegmentsTextBlock  None    duration   \n",
       "2   ExplanationOfMeasurementsOfSalesProfitLossAsse...  None    duration   \n",
       "0   ReconciliationOfEndingBalanceOfCashAndCashEqui...  None    duration   \n",
       "\n",
       "    isTextBlock_flg  abstract_flg  ...  period_end instant_date end_date_pv  \\\n",
       "0                 0             0  ...  2023-04-01   2023-04-01        None   \n",
       "1                 0             0  ...  2024-04-01   2024-04-01        None   \n",
       "2                 0             0  ...  2023-04-01   2023-04-01        None   \n",
       "3                 0             0  ...  2024-04-01   2024-04-01        None   \n",
       "4                 0             0  ...  2023-04-01   2023-04-01        None   \n",
       "..              ...           ...  ...         ...          ...         ...   \n",
       "9                 0             0  ...  2024-04-01         None  2024-03-31   \n",
       "0                 1             0  ...  2024-04-01         None  2024-03-31   \n",
       "1                 1             0  ...  2024-04-01         None  2024-03-31   \n",
       "2                 1             0  ...  2024-04-01         None  2024-03-31   \n",
       "0                 1             0  ...  2024-04-01         None  2024-03-31   \n",
       "\n",
       "   instant_date_pv                                           scenario  \\\n",
       "0       2023-03-31  [{\"ja\":[\"連結個別\",\"非連結又は個別\"],\"en\":[\"Consolidated ...   \n",
       "1       2024-03-31  [{\"ja\":[\"連結個別\",\"非連結又は個別\"],\"en\":[\"Consolidated ...   \n",
       "2       2023-03-31  [{\"ja\":[\"連結個別\",\"非連結又は個別\"],\"en\":[\"Consolidated ...   \n",
       "3       2024-03-31  [{\"ja\":[\"連結個別\",\"非連結又は個別\"],\"en\":[\"Consolidated ...   \n",
       "4       2023-03-31  [{\"ja\":[\"連結個別\",\"非連結又は個別\"],\"en\":[\"Consolidated ...   \n",
       "..             ...                                                ...   \n",
       "9             None  [{\"ja\":[\"連結個別\",\"非連結又は個別\"],\"en\":[\"Consolidated ...   \n",
       "0             None                                               None   \n",
       "1             None                                               None   \n",
       "2             None                                               None   \n",
       "0             None                                               None   \n",
       "\n",
       "                                                 role label_jp     order  \\\n",
       "0                                    rol_BalanceSheet   現金及び預金  1.020101   \n",
       "1                                    rol_BalanceSheet   現金及び預金  1.020101   \n",
       "2                                    rol_BalanceSheet     受取手形  1.020101   \n",
       "3                                    rol_BalanceSheet     受取手形  1.020101   \n",
       "4                                    rol_BalanceSheet      売掛金  1.020101   \n",
       "..                                                ...      ...       ...   \n",
       "9   rol_NotesSegmentInformationEtcConsolidatedFina...     減損損失  1.010201   \n",
       "0   rol_NotesSegmentInformationEtcConsolidatedFina...      NaN  1.020101   \n",
       "1   rol_NotesSegmentInformationEtcConsolidatedFina...      NaN  1.020101   \n",
       "2   rol_NotesSegmentInformationEtcConsolidatedFina...      NaN  1.020102   \n",
       "0           rol_NotesConsolidatedStatementOfCashFlows      NaN  1.020100   \n",
       "\n",
       "                                            child_key     docid  \n",
       "0                           jppfs_cor:CashAndDeposits  S100TNWB  \n",
       "1                           jppfs_cor:CashAndDeposits  S100TNWB  \n",
       "2                      jppfs_cor:NotesReceivableTrade  S100TNWB  \n",
       "3                      jppfs_cor:NotesReceivableTrade  S100TNWB  \n",
       "4                   jppfs_cor:AccountsReceivableTrade  S100TNWB  \n",
       "..                                                ...       ...  \n",
       "9                          jppfs_cor:ImpairmentLossEL  S100TLP1  \n",
       "0   jpcrp_cor:DescriptionOfReportableSegmentsTextB...  S100TLP1  \n",
       "1   jpcrp_cor:DisclosureOfChangesInReportableSegme...  S100TLP1  \n",
       "2   jpcrp_cor:ExplanationOfMeasurementsOfSalesProf...  S100TLP1  \n",
       "0   jpcrp_cor:ReconciliationOfEndingBalanceOfCashA...  S100TLP1  \n",
       "\n",
       "[2283 rows x 21 columns]"
      ]
     },
     "execution_count": 45,
     "metadata": {},
     "output_type": "execute_result"
    }
   ],
   "source": [
    "pd.concat(fs_tbl_loader_obj_list)#.columns\n",
    "#[['role','scenario']].value_counts()\n",
    "#columns#.role.value_counts()\n",
    "#.context_ref.value_counts()\n",
    "#.role.value_counts()\n"
   ]
  },
  {
   "cell_type": "code",
   "execution_count": 50,
   "metadata": {},
   "outputs": [
    {
     "name": "stderr",
     "output_type": "stream",
     "text": [
      "  0%|          | 0/2 [00:00<?, ?it/s]"
     ]
    },
    {
     "name": "stdout",
     "output_type": "stream",
     "text": [
      "[read_linkbase_file] done in 1.97 s \n",
      "org 20\n",
      "common: 2570\n",
      "[make_account_tbl] done in 0.00 s \n",
      "[make_account_link_tracer] done in 0.00 s \n",
      "[make_account_tbl_role_dict] done in 9.57 s \n"
     ]
    },
    {
     "name": "stderr",
     "output_type": "stream",
     "text": [
      " 50%|█████     | 1/2 [00:21<00:21, 21.24s/it]"
     ]
    },
    {
     "name": "stdout",
     "output_type": "stream",
     "text": [
      "[get_xbrl_rapper] done in 9.62 s \n",
      "[read_linkbase_file] done in 3.48 s \n",
      "org 37\n",
      "common: 2570\n",
      "[make_account_tbl] done in 0.00 s \n",
      "[make_account_link_tracer] done in 0.00 s \n",
      "[make_account_tbl_role_dict] done in 13.28 s \n"
     ]
    },
    {
     "name": "stderr",
     "output_type": "stream",
     "text": [
      "100%|██████████| 2/2 [00:48<00:00, 24.18s/it]"
     ]
    },
    {
     "name": "stdout",
     "output_type": "stream",
     "text": [
      "[get_xbrl_rapper] done in 10.28 s \n"
     ]
    },
    {
     "name": "stderr",
     "output_type": "stream",
     "text": [
      "\n"
     ]
    }
   ],
   "source": [
    "\n",
    "#docid=\"S100TLB3\"\n",
    "fs_tbl_loader_obj_list = []\n",
    "for docid in tqdm(download_docid_list[1:3]):\n",
    "    fs_tbl_loader_obj = fs_tbl_loader(\n",
    "        account_list_common_obj=account_list_common_obj,\n",
    "        docid=docid,\n",
    "        zip_file_str=DATA_PATH / \"raw/xbrl_doc\" / (docid + \".zip\"),\n",
    "        temp_path_str=DATA_PATH / \"raw/xbrl_doc_ext\" / docid,\n",
    "        role_label_list=['BS', 'PL', 'report'],\n",
    "    )\n",
    "    fs_tbl_loader_obj_list.append(fs_tbl_loader_obj)\n",
    "\n"
   ]
  },
  {
   "cell_type": "code",
   "execution_count": 12,
   "metadata": {},
   "outputs": [],
   "source": [
    "import pandas as pd"
   ]
  },
  {
   "cell_type": "code",
   "execution_count": 73,
   "metadata": {},
   "outputs": [
    {
     "name": "stdout",
     "output_type": "stream",
     "text": [
      "169\n",
      "197\n"
     ]
    }
   ],
   "source": [
    "bs_df_list = []\n",
    "for itr_fs_tbl_loader in fs_tbl_loader_obj_list:\n",
    "    bs_df = itr_fs_tbl_loader.get_data(\n",
    "        doc_name='report',\n",
    "        term='all',\n",
    "        Consolidated=True\n",
    "        )\n",
    "    bs_df_list.append(bs_df)\n",
    "bs_df = pd.concat(bs_df_list).reset_index(drop=True)"
   ]
  },
  {
   "cell_type": "code",
   "execution_count": 74,
   "metadata": {},
   "outputs": [
    {
     "data": {
      "text/html": [
       "<div>\n",
       "<style scoped>\n",
       "    .dataframe tbody tr th:only-of-type {\n",
       "        vertical-align: middle;\n",
       "    }\n",
       "\n",
       "    .dataframe tbody tr th {\n",
       "        vertical-align: top;\n",
       "    }\n",
       "\n",
       "    .dataframe thead th {\n",
       "        text-align: right;\n",
       "    }\n",
       "</style>\n",
       "<table border=\"1\" class=\"dataframe\">\n",
       "  <thead>\n",
       "    <tr style=\"text-align: right;\">\n",
       "      <th></th>\n",
       "      <th>key</th>\n",
       "      <th>data_str</th>\n",
       "      <th>decimals</th>\n",
       "      <th>precision</th>\n",
       "      <th>context_ref</th>\n",
       "      <th>element_name</th>\n",
       "      <th>unit</th>\n",
       "      <th>period_type</th>\n",
       "      <th>isTextBlock_flg</th>\n",
       "      <th>abstract_flg</th>\n",
       "      <th>...</th>\n",
       "      <th>period_end</th>\n",
       "      <th>instant_date</th>\n",
       "      <th>end_date_pv</th>\n",
       "      <th>instant_date_pv</th>\n",
       "      <th>scenario</th>\n",
       "      <th>role</th>\n",
       "      <th>label_jp</th>\n",
       "      <th>order</th>\n",
       "      <th>child_key</th>\n",
       "      <th>docID</th>\n",
       "    </tr>\n",
       "  </thead>\n",
       "  <tbody>\n",
       "    <tr>\n",
       "      <th>19</th>\n",
       "      <td>jpcrp_cor:BusinessRisksTextBlock</td>\n",
       "      <td>&lt;p style=\"page-break-before:always; line-heigh...</td>\n",
       "      <td>None</td>\n",
       "      <td>None</td>\n",
       "      <td>FilingDateInstant</td>\n",
       "      <td>BusinessRisksTextBlock</td>\n",
       "      <td>None</td>\n",
       "      <td>instant</td>\n",
       "      <td>1</td>\n",
       "      <td>0</td>\n",
       "      <td>...</td>\n",
       "      <td>2024-06-20</td>\n",
       "      <td>2024-06-20</td>\n",
       "      <td>None</td>\n",
       "      <td>2024-06-19</td>\n",
       "      <td>None</td>\n",
       "      <td>rol_CabinetOfficeOrdinanceOnDisclosureOfCorpor...</td>\n",
       "      <td>事業等のリスク</td>\n",
       "      <td>1.020203</td>\n",
       "      <td>jpcrp_cor:BusinessRisksTextBlock</td>\n",
       "      <td>S100TNWB</td>\n",
       "    </tr>\n",
       "    <tr>\n",
       "      <th>96</th>\n",
       "      <td>jpcrp_cor:BusinessRisksTextBlock</td>\n",
       "      <td>&lt;p style=\"page-break-before:always; line-heigh...</td>\n",
       "      <td>None</td>\n",
       "      <td>None</td>\n",
       "      <td>FilingDateInstant</td>\n",
       "      <td>BusinessRisksTextBlock</td>\n",
       "      <td>None</td>\n",
       "      <td>instant</td>\n",
       "      <td>1</td>\n",
       "      <td>0</td>\n",
       "      <td>...</td>\n",
       "      <td>2024-06-21</td>\n",
       "      <td>2024-06-21</td>\n",
       "      <td>None</td>\n",
       "      <td>2024-06-20</td>\n",
       "      <td>None</td>\n",
       "      <td>rol_CabinetOfficeOrdinanceOnDisclosureOfCorpor...</td>\n",
       "      <td>事業等のリスク</td>\n",
       "      <td>1.020203</td>\n",
       "      <td>jpcrp_cor:BusinessRisksTextBlock</td>\n",
       "      <td>S100TLP1</td>\n",
       "    </tr>\n",
       "  </tbody>\n",
       "</table>\n",
       "<p>2 rows × 21 columns</p>\n",
       "</div>"
      ],
      "text/plain": [
       "                                 key  \\\n",
       "19  jpcrp_cor:BusinessRisksTextBlock   \n",
       "96  jpcrp_cor:BusinessRisksTextBlock   \n",
       "\n",
       "                                             data_str decimals precision  \\\n",
       "19  <p style=\"page-break-before:always; line-heigh...     None      None   \n",
       "96  <p style=\"page-break-before:always; line-heigh...     None      None   \n",
       "\n",
       "          context_ref            element_name  unit period_type  \\\n",
       "19  FilingDateInstant  BusinessRisksTextBlock  None     instant   \n",
       "96  FilingDateInstant  BusinessRisksTextBlock  None     instant   \n",
       "\n",
       "    isTextBlock_flg  abstract_flg  ...  period_end instant_date end_date_pv  \\\n",
       "19                1             0  ...  2024-06-20   2024-06-20        None   \n",
       "96                1             0  ...  2024-06-21   2024-06-21        None   \n",
       "\n",
       "   instant_date_pv scenario  \\\n",
       "19      2024-06-19     None   \n",
       "96      2024-06-20     None   \n",
       "\n",
       "                                                 role label_jp     order  \\\n",
       "19  rol_CabinetOfficeOrdinanceOnDisclosureOfCorpor...  事業等のリスク  1.020203   \n",
       "96  rol_CabinetOfficeOrdinanceOnDisclosureOfCorpor...  事業等のリスク  1.020203   \n",
       "\n",
       "                           child_key     docID  \n",
       "19  jpcrp_cor:BusinessRisksTextBlock  S100TNWB  \n",
       "96  jpcrp_cor:BusinessRisksTextBlock  S100TLP1  \n",
       "\n",
       "[2 rows x 21 columns]"
      ]
     },
     "execution_count": 74,
     "metadata": {},
     "output_type": "execute_result"
    }
   ],
   "source": [
    "bs_df.query(\"key.str.contains('BusinessRisks')\")"
   ]
  },
  {
   "cell_type": "code",
   "execution_count": null,
   "metadata": {},
   "outputs": [],
   "source": [
    "def preproc(org_data):\n",
    "    #org_data=org_data.copy()\n",
    "    #org_data['data'] = org_data['data'].str.replace(',','')\n",
    "    org_data['data'] = pd.to_numeric(org_data['data_str'], errors='coerce')\n",
    "    org_data['data'] = org_data['data'].fillna(0)\n",
    "    org_data['data'] = org_data.data.astype('int') # for case of data is string object (cannot read csv with dtype=int)\n",
    "    org_data=org_data.assign(\n",
    "        #key_tag=org_data.key_org.str.replace(':','_'),\n",
    "        context_ref_len=(org_data.context_ref\n",
    "                         .str.split('_',expand=True)\n",
    "                         .notna().sum(axis=1) # count component separated by '_'\n",
    "                         ),\n",
    "        #data_credit=org_data.data\n",
    "        )\n",
    "    assert org_data.reset_index()[['key','context_ref']].duplicated().sum()==0\n",
    "    #self.org_data=org_data\n",
    "    return org_data\n",
    "\n",
    "bs_df=preproc(bs_df)#.head(20)"
   ]
  },
  {
   "cell_type": "code",
   "execution_count": 19,
   "metadata": {},
   "outputs": [],
   "source": [
    "\n",
    "bs_df2=bs_df.sort_values('context_ref_len',ascending=True).drop_duplicates(keep='first',subset='key')\n",
    "\n",
    "#bs_df2=bs_df2.assign(data_credit=((bs_df2.balance=='credit')*2-1)*bs_df2.data)"
   ]
  },
  {
   "cell_type": "markdown",
   "metadata": {},
   "source": [
    "#### テキストの取り出し"
   ]
  },
  {
   "cell_type": "code",
   "execution_count": 65,
   "metadata": {},
   "outputs": [],
   "source": [
    "tmp=fs_tbl_loader_obj_list[1].xbrl_data_df"
   ]
  },
  {
   "cell_type": "code",
   "execution_count": 69,
   "metadata": {},
   "outputs": [
    {
     "data": {
      "text/html": [
       "<div>\n",
       "<style scoped>\n",
       "    .dataframe tbody tr th:only-of-type {\n",
       "        vertical-align: middle;\n",
       "    }\n",
       "\n",
       "    .dataframe tbody tr th {\n",
       "        vertical-align: top;\n",
       "    }\n",
       "\n",
       "    .dataframe thead th {\n",
       "        text-align: right;\n",
       "    }\n",
       "</style>\n",
       "<table border=\"1\" class=\"dataframe\">\n",
       "  <thead>\n",
       "    <tr style=\"text-align: right;\">\n",
       "      <th></th>\n",
       "      <th>key</th>\n",
       "      <th>data_str</th>\n",
       "      <th>decimals</th>\n",
       "      <th>precision</th>\n",
       "      <th>context_ref</th>\n",
       "      <th>element_name</th>\n",
       "      <th>unit</th>\n",
       "      <th>period_type</th>\n",
       "      <th>isTextBlock_flg</th>\n",
       "      <th>abstract_flg</th>\n",
       "      <th>period_start</th>\n",
       "      <th>period_end</th>\n",
       "      <th>instant_date</th>\n",
       "      <th>end_date_pv</th>\n",
       "      <th>instant_date_pv</th>\n",
       "      <th>scenario</th>\n",
       "    </tr>\n",
       "  </thead>\n",
       "  <tbody>\n",
       "    <tr>\n",
       "      <th>1719</th>\n",
       "      <td>jpcrp_cor:BusinessRisksTextBlock</td>\n",
       "      <td>&lt;p style=\"page-break-before:always; line-heigh...</td>\n",
       "      <td>None</td>\n",
       "      <td>None</td>\n",
       "      <td>FilingDateInstant</td>\n",
       "      <td>BusinessRisksTextBlock</td>\n",
       "      <td>None</td>\n",
       "      <td>instant</td>\n",
       "      <td>1</td>\n",
       "      <td>0</td>\n",
       "      <td>None</td>\n",
       "      <td>2024-06-21</td>\n",
       "      <td>2024-06-21</td>\n",
       "      <td>None</td>\n",
       "      <td>2024-06-20</td>\n",
       "      <td>None</td>\n",
       "    </tr>\n",
       "  </tbody>\n",
       "</table>\n",
       "</div>"
      ],
      "text/plain": [
       "                                   key  \\\n",
       "1719  jpcrp_cor:BusinessRisksTextBlock   \n",
       "\n",
       "                                               data_str decimals precision  \\\n",
       "1719  <p style=\"page-break-before:always; line-heigh...     None      None   \n",
       "\n",
       "            context_ref            element_name  unit period_type  \\\n",
       "1719  FilingDateInstant  BusinessRisksTextBlock  None     instant   \n",
       "\n",
       "      isTextBlock_flg  abstract_flg period_start  period_end instant_date  \\\n",
       "1719                1             0         None  2024-06-21   2024-06-21   \n",
       "\n",
       "     end_date_pv instant_date_pv scenario  \n",
       "1719        None      2024-06-20     None  "
      ]
     },
     "execution_count": 69,
     "metadata": {},
     "output_type": "execute_result"
    }
   ],
   "source": [
    "tmp.query(\"key.str.contains('BusinessRisks')\")"
   ]
  },
  {
   "cell_type": "code",
   "execution_count": 62,
   "metadata": {},
   "outputs": [],
   "source": [
    "tmp=fs_tbl_loader_obj_list[1].linkbasefile_obj.parent_child_df.query(\"child_key.str.contains('jpcrp_cor:BusinessRisksTextBlock')\")\n",
    "#.role.value_counts()\n",
    "#.query(\"role.str.contains('rol_Audits')\")\n",
    "#get_presentation_account_list_obj.export_label_to_taxonomi_dict()"
   ]
  },
  {
   "cell_type": "code",
   "execution_count": 64,
   "metadata": {},
   "outputs": [
    {
     "data": {
      "text/plain": [
       "parent_key                        jpcrp_cor:BusinessRisksHeading\n",
       "child_key                       jpcrp_cor:BusinessRisksTextBlock\n",
       "role           http://disclosure.edinet-fsa.go.jp/role/jpcrp/...\n",
       "child_order                                                    1\n",
       "Name: 22, dtype: object"
      ]
     },
     "execution_count": 64,
     "metadata": {},
     "output_type": "execute_result"
    }
   ],
   "source": [
    "tmp.iloc[0]#.role"
   ]
  },
  {
   "cell_type": "code",
   "execution_count": 16,
   "metadata": {},
   "outputs": [
    {
     "ename": "TypeError",
     "evalue": "pivot_table() missing 1 required positional argument: 'data'",
     "output_type": "error",
     "traceback": [
      "\u001b[0;31m---------------------------------------------------------------------------\u001b[0m",
      "\u001b[0;31mTypeError\u001b[0m                                 Traceback (most recent call last)",
      "Cell \u001b[0;32mIn[16], line 1\u001b[0m\n\u001b[0;32m----> 1\u001b[0m \u001b[43mpd\u001b[49m\u001b[38;5;241;43m.\u001b[39;49m\u001b[43mpivot_table\u001b[49m\u001b[43m(\u001b[49m\u001b[43mindex\u001b[49m\u001b[38;5;241;43m=\u001b[39;49m\u001b[38;5;124;43m'\u001b[39;49m\u001b[38;5;124;43mdocID\u001b[39;49m\u001b[38;5;124;43m'\u001b[39;49m\u001b[43m,\u001b[49m\u001b[43mcolumns\u001b[49m\u001b[38;5;241;43m=\u001b[39;49m\u001b[38;5;124;43m'\u001b[39;49m\u001b[38;5;124;43mlabel\u001b[39;49m\u001b[38;5;124;43m'\u001b[39;49m\u001b[43m,\u001b[49m\u001b[43mvalues\u001b[49m\u001b[38;5;241;43m=\u001b[39;49m\u001b[38;5;124;43m'\u001b[39;49m\u001b[38;5;124;43mvalue\u001b[39;49m\u001b[38;5;124;43m'\u001b[39;49m\u001b[43m,\u001b[49m\u001b[43maggfunc\u001b[49m\u001b[38;5;241;43m=\u001b[39;49m\u001b[38;5;124;43m'\u001b[39;49m\u001b[38;5;124;43mfirst\u001b[39;49m\u001b[38;5;124;43m'\u001b[39;49m\u001b[43m)\u001b[49m\n",
      "\u001b[0;31mTypeError\u001b[0m: pivot_table() missing 1 required positional argument: 'data'"
     ]
    }
   ],
   "source": [
    "pd.pivot_table(index='docID',columns='label',values='value',aggfunc='first')"
   ]
  },
  {
   "cell_type": "code",
   "execution_count": 3,
   "metadata": {},
   "outputs": [
    {
     "name": "stdout",
     "output_type": "stream",
     "text": [
      "152\n",
      "379\n",
      "529\n"
     ]
    }
   ],
   "source": [
    "linkbasefile_obj=linkbasefile(\n",
    "    zip_file_str=DATA_PATH / \"xbrl_doc\" / \"S100TLB3.zip\",\n",
    "    temp_path_str=DATA_PATH / \"xbrl_doc_ext\"/\"S100TLB3\")\n",
    "linkbasefile_obj.read_linkbase_file()\n",
    "linkbasefile_obj.check()\n",
    "linkbasefile_obj.make_account_label(account_list_common_obj)\n",
    "#linkbasefile_obj.make_summary_tbl()\n",
    "#linkbasefile_obj.make_account_label_common(account_list_common_obj) \n"
   ]
  },
  {
   "cell_type": "markdown",
   "metadata": {},
   "source": [
    "## analysis link"
   ]
  },
  {
   "cell_type": "code",
   "execution_count": 20,
   "metadata": {},
   "outputs": [
    {
     "data": {
      "text/plain": [
       "['jpcrp_cor:NetSalesSummaryOfBusinessResults',\n",
       " 'jppfs_cor:NetSalesAbstract',\n",
       " 'jppfs_cor:NetSales',\n",
       " 'jppfs_cor:CostOfSales',\n",
       " 'jppfs_cor:CostOfSalesAbstract']"
      ]
     },
     "execution_count": 20,
     "metadata": {},
     "output_type": "execute_result"
    }
   ],
   "source": [
    "account_link_tracer_obj.search_keys(keyword_in_taxonomy='Sales')"
   ]
  },
  {
   "cell_type": "code",
   "execution_count": 16,
   "metadata": {},
   "outputs": [
    {
     "data": {
      "text/plain": [
       "['jpcrp030000-asr_E03926-000:ArentIncome', 'jppfs_cor:NetSales']"
      ]
     },
     "execution_count": 16,
     "metadata": {},
     "output_type": "execute_result"
    }
   ],
   "source": [
    "account_link_tracer_obj.get_child_keys_recursive(\n",
    "    parent_key='jppfs_cor:NetSalesAbstract',\n",
    "    role=role_text)"
   ]
  },
  {
   "cell_type": "markdown",
   "metadata": {},
   "source": [
    "# xbrl parse"
   ]
  },
  {
   "cell_type": "code",
   "execution_count": 46,
   "metadata": {},
   "outputs": [],
   "source": [
    "docid=\"S100TLB3\"\n",
    "xbrl_data_df,log_dict=get_xbrl_rapper(\n",
    "    docid=docid,\n",
    "    zip_file=DATA_PATH / \"xbrl_doc\" / (docid + \".zip\"),\n",
    "    temp_dir=DATA_PATH / \"tmp\",\n",
    "    out_path=DATA_PATH / \"xbrl_doc_ext\"/\"S100TLB3\",\n",
    "    update_flg=False)\n"
   ]
  },
  {
   "cell_type": "code",
   "execution_count": 49,
   "metadata": {},
   "outputs": [],
   "source": [
    "pl_key=linkbasefile_obj.account_tbl_role_dict['rol_BusinessResultsOfReportingCompany'].key"
   ]
  },
  {
   "cell_type": "code",
   "execution_count": 53,
   "metadata": {},
   "outputs": [],
   "source": [
    "tmp=pd.merge(\n",
    "    linkbasefile_obj.account_tbl_role_dict['rol_BusinessResultsOfReportingCompany'],\n",
    "    xbrl_data_df.query(\"key in @pl_key\"),\n",
    "    on='key',\n",
    "    how='outer')#.query(\"not key.str.contains('Abstract')\")\n"
   ]
  },
  {
   "cell_type": "code",
   "execution_count": null,
   "metadata": {},
   "outputs": [],
   "source": [
    "dict_add,log_dict=get_data(\n",
    "    account_link_tracer_obj=account_link_tracer_obj,\n",
    "    xbrl_obj=textblock_cur,\n",
    "    include_tree_top_keyword=conf['include_tree_top_keyword'],\n",
    "    role_text=role_text,\n",
    "    include_keyword_list=conf['include_keyword_list'],\n",
    "    exclude_keyword=conf['exclude_keyword'],\n",
    "    keep_taxonomi_list=conf['keep_taxonomi_list'],\n",
    "    docid=docid,\n",
    "    edinet_code=edinet_code,\n",
    "    period_end=period_end,\n",
    "    period_start=period_start,\n",
    "    tag=conf['tag'],\n",
    "    log_dict=log_dict\n",
    "    )"
   ]
  }
 ],
 "metadata": {
  "kernelspec": {
   "display_name": ".venv",
   "language": "python",
   "name": "python3"
  },
  "language_info": {
   "codemirror_mode": {
    "name": "ipython",
    "version": 3
   },
   "file_extension": ".py",
   "mimetype": "text/x-python",
   "name": "python",
   "nbconvert_exporter": "python",
   "pygments_lexer": "ipython3",
   "version": "3.12.5"
  }
 },
 "nbformat": 4,
 "nbformat_minor": 2
}
